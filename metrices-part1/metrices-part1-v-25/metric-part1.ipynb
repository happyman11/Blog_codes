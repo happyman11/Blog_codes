{
 "cells": [
  {
   "cell_type": "code",
   "execution_count": 56,
   "metadata": {},
   "outputs": [
    {
     "name": "stdout",
     "output_type": "stream",
     "text": [
      "Requirement already satisfied: numpy in /srv/conda/envs/notebook/lib/python3.7/site-packages (1.19.2)\n",
      "Requirement already satisfied: sklearn in /srv/conda/envs/notebook/lib/python3.7/site-packages (0.0)\n",
      "Requirement already satisfied: scikit-learn in /srv/conda/envs/notebook/lib/python3.7/site-packages (from sklearn) (0.23.2)\n",
      "Requirement already satisfied: threadpoolctl>=2.0.0 in /srv/conda/envs/notebook/lib/python3.7/site-packages (from scikit-learn->sklearn) (2.1.0)\n",
      "Requirement already satisfied: scipy>=0.19.1 in /srv/conda/envs/notebook/lib/python3.7/site-packages (from scikit-learn->sklearn) (1.5.2)\n",
      "Requirement already satisfied: numpy>=1.13.3 in /srv/conda/envs/notebook/lib/python3.7/site-packages (from scikit-learn->sklearn) (1.19.2)\n",
      "Requirement already satisfied: joblib>=0.11 in /srv/conda/envs/notebook/lib/python3.7/site-packages (from scikit-learn->sklearn) (0.17.0)\n",
      "Collecting statsmodels\n",
      "\u001b[?25l  Downloading https://files.pythonhosted.org/packages/ff/68/ca52fc6a114141f13dfaee340fc355e2825753f1cbe3702a13a5046e16de/statsmodels-0.12.0-cp37-cp37m-manylinux1_x86_64.whl (9.5MB)\n",
      "\u001b[K     |████████████████████████████████| 9.5MB 3.3MB/s eta 0:00:01\n",
      "\u001b[?25hRequirement already satisfied: numpy>=1.15 in /srv/conda/envs/notebook/lib/python3.7/site-packages (from statsmodels) (1.19.2)\n",
      "Collecting pandas>=0.21 (from statsmodels)\n",
      "\u001b[?25l  Downloading https://files.pythonhosted.org/packages/25/47/22fc373440e144e2111363adaa07abb09ec1f03fbc071b6d9fc0bbf65f68/pandas-1.1.3-cp37-cp37m-manylinux1_x86_64.whl (9.5MB)\n",
      "\u001b[K     |████████████████████████████████| 9.5MB 45.7MB/s eta 0:00:01\n",
      "\u001b[?25hRequirement already satisfied: scipy>=1.1 in /srv/conda/envs/notebook/lib/python3.7/site-packages (from statsmodels) (1.5.2)\n",
      "Collecting patsy>=0.5 (from statsmodels)\n",
      "\u001b[?25l  Downloading https://files.pythonhosted.org/packages/ea/0c/5f61f1a3d4385d6bf83b83ea495068857ff8dfb89e74824c6e9eb63286d8/patsy-0.5.1-py2.py3-none-any.whl (231kB)\n",
      "\u001b[K     |████████████████████████████████| 235kB 41.1MB/s eta 0:00:01\n",
      "\u001b[?25hCollecting pytz>=2017.2 (from pandas>=0.21->statsmodels)\n",
      "\u001b[?25l  Downloading https://files.pythonhosted.org/packages/4f/a4/879454d49688e2fad93e59d7d4efda580b783c745fd2ec2a3adf87b0808d/pytz-2020.1-py2.py3-none-any.whl (510kB)\n",
      "\u001b[K     |████████████████████████████████| 512kB 38.2MB/s eta 0:00:01\n",
      "\u001b[?25hRequirement already satisfied: python-dateutil>=2.7.3 in /srv/conda/envs/notebook/lib/python3.7/site-packages (from pandas>=0.21->statsmodels) (2.8.0)\n",
      "Requirement already satisfied: six in /srv/conda/envs/notebook/lib/python3.7/site-packages (from patsy>=0.5->statsmodels) (1.12.0)\n",
      "Installing collected packages: pytz, pandas, patsy, statsmodels\n",
      "Successfully installed pandas-1.1.3 patsy-0.5.1 pytz-2020.1 statsmodels-0.12.0\n"
     ]
    }
   ],
   "source": [
    "!pip install jovian --upgrade --quiet\n",
    "!pip install numpy\n",
    "!pip install sklearn\n",
    "!pip install statsmodels"
   ]
  },
  {
   "cell_type": "code",
   "execution_count": 2,
   "metadata": {},
   "outputs": [],
   "source": [
    "import jovian\n",
    "import numpy as np"
   ]
  },
  {
   "cell_type": "code",
   "execution_count": 3,
   "metadata": {},
   "outputs": [
    {
     "data": {
      "application/javascript": [
       "window.require && require([\"base/js/namespace\"],function(Jupyter){Jupyter.notebook.save_checkpoint()})"
      ],
      "text/plain": [
       "<IPython.core.display.Javascript object>"
      ]
     },
     "metadata": {},
     "output_type": "display_data"
    },
    {
     "name": "stdout",
     "output_type": "stream",
     "text": [
      "[jovian] Attempting to save notebook..\u001b[0m\n",
      "[jovian] Please enter your API key ( from https://jovian.ml/ ):\u001b[0m\n",
      "API KEY: ········\n",
      "[jovian] Updating notebook \"tiwari12-rst/metrices-part1\" on https://jovian.ml/\u001b[0m\n",
      "[jovian] Uploading notebook..\u001b[0m\n",
      "[jovian] Capturing environment..\u001b[0m\n",
      "[jovian] Committed successfully! https://jovian.ml/tiwari12-rst/metrices-part1\u001b[0m\n"
     ]
    },
    {
     "data": {
      "text/plain": [
       "'https://jovian.ml/tiwari12-rst/metrices-part1'"
      ]
     },
     "execution_count": 3,
     "metadata": {},
     "output_type": "execute_result"
    }
   ],
   "source": [
    "jovian.commit()"
   ]
  },
  {
   "cell_type": "markdown",
   "metadata": {},
   "source": [
    "# Creating variable\n",
    "These are just dummy variable for showing how the metrices work. In later article we will be working with the predicted values"
   ]
  },
  {
   "cell_type": "code",
   "execution_count": 14,
   "metadata": {},
   "outputs": [],
   "source": [
    "Y_actual = [1, 1, 0, 1, 0, 0, 1, 0, 0, 0,0,1,2,3]\n",
    "Y_predic = [1, 0, 1, 1, 1, 0, 1, 1, 0, 0,3,4,5,0]"
   ]
  },
  {
   "cell_type": "code",
   "execution_count": 15,
   "metadata": {},
   "outputs": [
    {
     "name": "stdout",
     "output_type": "stream",
     "text": [
      "[1 1 0 1 0 0 1 0 0 0 0 1 2 3]\n",
      "[1 0 1 1 1 0 1 1 0 0 3 4 5 0]\n"
     ]
    }
   ],
   "source": [
    "#converting into numpy array for calculation\n",
    "\n",
    "Y_actual=np.asarray(Y_actual)\n",
    "Y_predict=np.asarray(Y_predic)\n",
    "\n",
    "print(Y_actual)\n",
    "print(Y_predict)"
   ]
  },
  {
   "cell_type": "markdown",
   "metadata": {},
   "source": [
    "# Function for  MAE, MSE, RMSE,RMSLE,R^2, Adjusted R^2 \n"
   ]
  },
  {
   "cell_type": "code",
   "execution_count": 16,
   "metadata": {},
   "outputs": [],
   "source": [
    "#Function of MAE\n",
    "def MAE(Y_actual,Y_Predicted):\n",
    "\n",
    "     MAE_error=np.mean(np.absolute(Y_actual - Y_Predicted))\n",
    "     return MAE_error\n",
    "\n",
    "#Functionof MSE\n",
    "def MSE(Y_actual,Y_Predicted):\n",
    "\n",
    "     MSE_error=np.mean(np.square(Y_actual - Y_Predicted))\n",
    "     return MSE_error\n",
    "\n",
    "#Function of RMSE\n",
    "def RMSE(Y_actual,Y_Predicted):\n",
    "\n",
    "     RMSE_error=np.sqrt(np.mean(np.square(Y_actual - Y_Predicted)))\n",
    "     return RMSE_error\n",
    "\n",
    "#Function of RMSLE\n",
    "def RMSLE(Y_actual,Y_Predicted):\n",
    "\n",
    "     RMSLE_error=np.sqrt(np.mean(np.square(np.log(Y_actual+1) - np.log(Y_Predicted+1))))\n",
    "     return RMSLE_error\n",
    "\n",
    "#calculate R-Square\n",
    "def R_square(Y_actual,Y_Predicted):\n",
    "    \n",
    "    target_mean=np.mean(Y_actual)\n",
    "    SSError=np.sum(np.square(Y_actual-Y_Predicted))\n",
    "    SSTotal=np.sum(np.square(Y_actual-target_mean))\n",
    "    ratio=SSError/SSTotal\n",
    "    R_square=1-ratio\n",
    "    \n",
    "    return R_square\n",
    "\n",
    "def adjusted_r_sq(Y_actual,Y_Predicted,k=5,n=len(Y_actual)):\n",
    "    \n",
    "    #here assume no of featues or IV is 5\n",
    "    r_sq=R_square(Y_actual,Y_Predicted)\n",
    "    X=1-r_sq\n",
    "    y=(n)/((n+1)-(k+1))\n",
    "    Ajr_r_sq=1-(X*y)\n",
    "    \n",
    "    return Ajr_r_sq"
   ]
  },
  {
   "cell_type": "code",
   "execution_count": 17,
   "metadata": {},
   "outputs": [
    {
     "data": {
      "application/javascript": [
       "window.require && require([\"base/js/namespace\"],function(Jupyter){Jupyter.notebook.save_checkpoint()})"
      ],
      "text/plain": [
       "<IPython.core.display.Javascript object>"
      ]
     },
     "metadata": {},
     "output_type": "display_data"
    },
    {
     "name": "stdout",
     "output_type": "stream",
     "text": [
      "[jovian] Attempting to save notebook..\u001b[0m\n",
      "[jovian] Updating notebook \"tiwari12-rst/metrices-part1\" on https://jovian.ml/\u001b[0m\n",
      "[jovian] Uploading notebook..\u001b[0m\n",
      "[jovian] Capturing environment..\u001b[0m\n",
      "[jovian] Committed successfully! https://jovian.ml/tiwari12-rst/metrices-part1\u001b[0m\n"
     ]
    },
    {
     "data": {
      "text/plain": [
       "'https://jovian.ml/tiwari12-rst/metrices-part1'"
      ]
     },
     "execution_count": 17,
     "metadata": {},
     "output_type": "execute_result"
    }
   ],
   "source": [
    "jovian.commit()"
   ]
  },
  {
   "cell_type": "code",
   "execution_count": null,
   "metadata": {},
   "outputs": [],
   "source": []
  },
  {
   "cell_type": "code",
   "execution_count": 18,
   "metadata": {
    "scrolled": true
   },
   "outputs": [
    {
     "name": "stdout",
     "output_type": "stream",
     "text": [
      "MAE ERROR :1.1428571428571428\n",
      "MSE ERROR :2.857142857142857\n",
      "RMSE ERROR :1.6903085094570331\n",
      "RMSLE ERROR :0.711410966533364\n",
      "R-Squared :-2.68421052631579\n",
      "Adjusted R-Squared :-4.730994152046784\n"
     ]
    }
   ],
   "source": [
    "\n",
    "print(\"MAE ERROR :{}\".format(MAE(Y_actual,Y_predict)))\n",
    "print(\"MSE ERROR :{}\".format(MSE(Y_actual,Y_predict)))\n",
    "print(\"RMSE ERROR :{}\".format(RMSE(Y_actual,Y_predict)))\n",
    "print(\"RMSLE ERROR :{}\".format(RMSLE(Y_actual,Y_predict)))\n",
    "print(\"R-Squared :{}\".format(R_square(Y_actual,Y_predict)))\n",
    "print(\"Adjusted R-Squared :{}\".format(adjusted_r_sq(Y_actual,Y_predict)))"
   ]
  },
  {
   "cell_type": "code",
   "execution_count": 65,
   "metadata": {},
   "outputs": [
    {
     "data": {
      "application/javascript": [
       "window.require && require([\"base/js/namespace\"],function(Jupyter){Jupyter.notebook.save_checkpoint()})"
      ],
      "text/plain": [
       "<IPython.core.display.Javascript object>"
      ]
     },
     "metadata": {},
     "output_type": "display_data"
    },
    {
     "name": "stdout",
     "output_type": "stream",
     "text": [
      "[jovian] Attempting to save notebook..\u001b[0m\n",
      "[jovian] Updating notebook \"tiwari12-rst/metrices-part1\" on https://jovian.ml/\u001b[0m\n",
      "[jovian] Uploading notebook..\u001b[0m\n",
      "[jovian] Capturing environment..\u001b[0m\n",
      "[jovian] Committed successfully! https://jovian.ml/tiwari12-rst/metrices-part1\u001b[0m\n"
     ]
    },
    {
     "data": {
      "text/plain": [
       "'https://jovian.ml/tiwari12-rst/metrices-part1'"
      ]
     },
     "execution_count": 65,
     "metadata": {},
     "output_type": "execute_result"
    }
   ],
   "source": [
    "jovian.commit()"
   ]
  },
  {
   "cell_type": "markdown",
   "metadata": {},
   "source": [
    "# Using formulae/Packages"
   ]
  },
  {
   "cell_type": "code",
   "execution_count": 25,
   "metadata": {},
   "outputs": [],
   "source": [
    "from sklearn.metrics import mean_absolute_error\n",
    "from sklearn.metrics import mean_squared_error\n",
    "from sklearn.metrics import mean_squared_log_error\n",
    "from math import sqrt\n",
    "from sklearn.metrics import r2_score\n",
    "    "
   ]
  },
  {
   "cell_type": "code",
   "execution_count": 26,
   "metadata": {},
   "outputs": [
    {
     "name": "stdout",
     "output_type": "stream",
     "text": [
      "MAE ERROR :1.1428571428571428\n",
      "MSE ERROR :2.857142857142857\n",
      "RMSE ERROR :1.6903085094570331\n",
      "RMSLE ERROR :0.711410966533364\n",
      "R-Squared : -2.68421052631579\n"
     ]
    }
   ],
   "source": [
    "print(\"MAE ERROR :{}\".format(mean_absolute_error(Y_actual,Y_predict)))\n",
    "print(\"MSE ERROR :{}\".format(mean_squared_error(Y_actual,Y_predict)))\n",
    "print(\"RMSE ERROR :{}\".format(sqrt(mean_squared_error(Y_actual,Y_predict))))\n",
    "print(\"RMSLE ERROR :{}\".format(sqrt(mean_squared_log_error(Y_actual,Y_predict))))\n",
    "print(\"R-Squared : {}\".format(r2_score(Y_actual,Y_predict)))"
   ]
  },
  {
   "cell_type": "code",
   "execution_count": 27,
   "metadata": {},
   "outputs": [
    {
     "data": {
      "application/javascript": [
       "window.require && require([\"base/js/namespace\"],function(Jupyter){Jupyter.notebook.save_checkpoint()})"
      ],
      "text/plain": [
       "<IPython.core.display.Javascript object>"
      ]
     },
     "metadata": {},
     "output_type": "display_data"
    },
    {
     "name": "stdout",
     "output_type": "stream",
     "text": [
      "[jovian] Attempting to save notebook..\u001b[0m\n",
      "[jovian] Updating notebook \"tiwari12-rst/metrices-part1\" on https://jovian.ml/\u001b[0m\n",
      "[jovian] Uploading notebook..\u001b[0m\n",
      "[jovian] Capturing environment..\u001b[0m\n",
      "[jovian] Committed successfully! https://jovian.ml/tiwari12-rst/metrices-part1\u001b[0m\n"
     ]
    },
    {
     "data": {
      "text/plain": [
       "'https://jovian.ml/tiwari12-rst/metrices-part1'"
      ]
     },
     "execution_count": 27,
     "metadata": {},
     "output_type": "execute_result"
    }
   ],
   "source": [
    "jovian.commit()"
   ]
  },
  {
   "cell_type": "markdown",
   "metadata": {},
   "source": [
    "# Here we will generate the data then by using the generated data we fit the regression model"
   ]
  },
  {
   "cell_type": "code",
   "execution_count": 30,
   "metadata": {},
   "outputs": [],
   "source": [
    "from sklearn.datasets import make_regression\n",
    "X, y = make_regression(n_samples=100, n_features=2, noise=0.1)"
   ]
  },
  {
   "cell_type": "markdown",
   "metadata": {},
   "source": [
    "# Splitting the data in test and train test"
   ]
  },
  {
   "cell_type": "code",
   "execution_count": 31,
   "metadata": {},
   "outputs": [],
   "source": [
    "from sklearn.model_selection import train_test_split\n",
    "X_train, X_test, y_train, y_test = train_test_split(X, y, test_size=0.33, random_state=42)"
   ]
  },
  {
   "cell_type": "markdown",
   "metadata": {},
   "source": [
    "# Sklearn linear regression model and fitting the data in  model "
   ]
  },
  {
   "cell_type": "code",
   "execution_count": 32,
   "metadata": {},
   "outputs": [
    {
     "data": {
      "text/plain": [
       "LinearRegression()"
      ]
     },
     "execution_count": 32,
     "metadata": {},
     "output_type": "execute_result"
    }
   ],
   "source": [
    "from sklearn.linear_model import LinearRegression\n",
    "model = LinearRegression()\n",
    "model.fit(X_train, y_train)"
   ]
  },
  {
   "cell_type": "markdown",
   "metadata": {},
   "source": [
    "# predicting using trained model"
   ]
  },
  {
   "cell_type": "code",
   "execution_count": 33,
   "metadata": {},
   "outputs": [
    {
     "name": "stdout",
     "output_type": "stream",
     "text": [
      "(33,)\n"
     ]
    }
   ],
   "source": [
    "yhat = model.predict(X_test)\n",
    "print(yhat.shape)"
   ]
  },
  {
   "cell_type": "markdown",
   "metadata": {},
   "source": [
    "# getting model parameters"
   ]
  },
  {
   "cell_type": "code",
   "execution_count": 34,
   "metadata": {},
   "outputs": [
    {
     "name": "stdout",
     "output_type": "stream",
     "text": [
      "Number of parameters: 3\n"
     ]
    }
   ],
   "source": [
    "num_params = len(model.coef_) + 1\n",
    "print('Number of parameters: %d' % (num_params))"
   ]
  },
  {
   "cell_type": "markdown",
   "metadata": {},
   "source": [
    "# Calculating using own function"
   ]
  },
  {
   "cell_type": "code",
   "execution_count": 35,
   "metadata": {},
   "outputs": [
    {
     "name": "stdout",
     "output_type": "stream",
     "text": [
      "MAE ERROR :0.07238325650163957\n",
      "MSE ERROR :0.011430161261986439\n",
      "RMSE ERROR :0.1069119322713159\n",
      "RMSLE ERROR :nan\n",
      "R-Squared :0.9999985845908892\n",
      "Adjusted R-Squared :0.9999981985702227\n"
     ]
    },
    {
     "name": "stderr",
     "output_type": "stream",
     "text": [
      "/srv/conda/envs/notebook/lib/python3.7/site-packages/ipykernel_launcher.py:22: RuntimeWarning: invalid value encountered in log\n"
     ]
    }
   ],
   "source": [
    "print(\"MAE ERROR :{}\".format(MAE( y_test,yhat)))\n",
    "print(\"MSE ERROR :{}\".format(MSE(y_test,yhat)))\n",
    "print(\"RMSE ERROR :{}\".format(RMSE(y_test,yhat)))\n",
    "print(\"RMSLE ERROR :{}\".format(RMSLE(y_test,yhat)))\n",
    "print(\"R-Squared :{}\".format(R_square(y_test,yhat)))\n",
    "print(\"Adjusted R-Squared :{}\".format(adjusted_r_sq(y_test,yhat,num_params)))"
   ]
  },
  {
   "cell_type": "markdown",
   "metadata": {},
   "source": [
    "#  Calculating using sklearn  function"
   ]
  },
  {
   "cell_type": "code",
   "execution_count": 36,
   "metadata": {},
   "outputs": [
    {
     "data": {
      "application/javascript": [
       "window.require && require([\"base/js/namespace\"],function(Jupyter){Jupyter.notebook.save_checkpoint()})"
      ],
      "text/plain": [
       "<IPython.core.display.Javascript object>"
      ]
     },
     "metadata": {},
     "output_type": "display_data"
    },
    {
     "name": "stdout",
     "output_type": "stream",
     "text": [
      "[jovian] Attempting to save notebook..\u001b[0m\n",
      "[jovian] Updating notebook \"tiwari12-rst/metrices-part1\" on https://jovian.ml/\u001b[0m\n",
      "[jovian] Uploading notebook..\u001b[0m\n",
      "[jovian] Capturing environment..\u001b[0m\n",
      "[jovian] Committed successfully! https://jovian.ml/tiwari12-rst/metrices-part1\u001b[0m\n"
     ]
    },
    {
     "data": {
      "text/plain": [
       "'https://jovian.ml/tiwari12-rst/metrices-part1'"
      ]
     },
     "execution_count": 36,
     "metadata": {},
     "output_type": "execute_result"
    }
   ],
   "source": [
    "jovian.commit()"
   ]
  },
  {
   "cell_type": "code",
   "execution_count": 38,
   "metadata": {},
   "outputs": [
    {
     "name": "stdout",
     "output_type": "stream",
     "text": [
      "MAE ERROR :0.07238325650163957\n",
      "MSE ERROR :0.011430161261986439\n",
      "RMSE ERROR :0.1069119322713159\n",
      "R-Squared : 0.9999985845908892\n"
     ]
    }
   ],
   "source": [
    "print(\"MAE ERROR :{}\".format(mean_absolute_error( y_test,yhat)))\n",
    "print(\"MSE ERROR :{}\".format(mean_squared_error( y_test,yhat)))\n",
    "print(\"RMSE ERROR :{}\".format(sqrt(mean_squared_error( y_test,yhat))))\n",
    "#print(\"RMSLE ERROR :{}\".format(sqrt(mean_squared_log_error( y_test,yhat))))\n",
    "print(\"R-Squared : {}\".format(r2_score( y_test,yhat)))"
   ]
  },
  {
   "cell_type": "code",
   "execution_count": 39,
   "metadata": {},
   "outputs": [
    {
     "data": {
      "application/javascript": [
       "window.require && require([\"base/js/namespace\"],function(Jupyter){Jupyter.notebook.save_checkpoint()})"
      ],
      "text/plain": [
       "<IPython.core.display.Javascript object>"
      ]
     },
     "metadata": {},
     "output_type": "display_data"
    },
    {
     "name": "stdout",
     "output_type": "stream",
     "text": [
      "[jovian] Attempting to save notebook..\u001b[0m\n",
      "[jovian] Updating notebook \"tiwari12-rst/metrices-part1\" on https://jovian.ml/\u001b[0m\n",
      "[jovian] Uploading notebook..\u001b[0m\n",
      "[jovian] Capturing environment..\u001b[0m\n",
      "[jovian] Committed successfully! https://jovian.ml/tiwari12-rst/metrices-part1\u001b[0m\n"
     ]
    },
    {
     "data": {
      "text/plain": [
       "'https://jovian.ml/tiwari12-rst/metrices-part1'"
      ]
     },
     "execution_count": 39,
     "metadata": {},
     "output_type": "execute_result"
    }
   ],
   "source": [
    "jovian.commit()"
   ]
  },
  {
   "cell_type": "markdown",
   "metadata": {},
   "source": [
    "# AIC and BIC calculation using mannual code"
   ]
  },
  {
   "cell_type": "code",
   "execution_count": 53,
   "metadata": {},
   "outputs": [],
   "source": [
    "from math import log\n",
    "\n",
    "# function for aic- first order\n",
    "def AIC_calculation(y_test,yhat,n, num_params):\n",
    "    aic_score = n * log(mean_squared_error( y_test,yhat)) + 2 * num_params\n",
    "    return aic_score\n",
    "\n",
    "# function for aic- first order\n",
    "def AIC_calculation_secondorder(y_test,yhat,n, num_params):\n",
    "    aic_score_half = n * log(mean_squared_error( y_test,yhat)) + 2 * num_params\n",
    "    extraterm=(((2*num_params)+1)/(n-num_params+1))\n",
    "    return (aic_score_half+extraterm)\n",
    "\n",
    "# function for bic\n",
    "def BIC_calculation(y_test,yhat,n,num_params):\n",
    "    bic_score = n * log(mean_squared_error( y_test,yhat)) + num_params * log(n)\n",
    "    return bic_score\n"
   ]
  },
  {
   "cell_type": "code",
   "execution_count": null,
   "metadata": {},
   "outputs": [],
   "source": []
  },
  {
   "cell_type": "code",
   "execution_count": 54,
   "metadata": {},
   "outputs": [
    {
     "name": "stdout",
     "output_type": "stream",
     "text": [
      "AIC  First Order Score :-293.59047940518576\n",
      "AIC  Second Order Score :-293.48278709749343\n",
      "BIC cCore :-286.97640154701287\n"
     ]
    }
   ],
   "source": [
    "print(\"AIC  First Order Score :{}\".format(AIC_calculation( y_test,yhat,len(X_train),num_params)))\n",
    "print(\"AIC  Second Order Score :{}\".format(AIC_calculation_secondorder( y_test,yhat,len(X_train),num_params)))\n",
    "print(\"BIC cCore :{}\".format(BIC_calculation( y_test,yhat,len(X_train),num_params)))\n",
    "\n"
   ]
  },
  {
   "cell_type": "code",
   "execution_count": 55,
   "metadata": {},
   "outputs": [
    {
     "data": {
      "application/javascript": [
       "window.require && require([\"base/js/namespace\"],function(Jupyter){Jupyter.notebook.save_checkpoint()})"
      ],
      "text/plain": [
       "<IPython.core.display.Javascript object>"
      ]
     },
     "metadata": {},
     "output_type": "display_data"
    },
    {
     "name": "stdout",
     "output_type": "stream",
     "text": [
      "[jovian] Attempting to save notebook..\u001b[0m\n",
      "[jovian] Updating notebook \"tiwari12-rst/metrices-part1\" on https://jovian.ml/\u001b[0m\n",
      "[jovian] Uploading notebook..\u001b[0m\n",
      "[jovian] Capturing environment..\u001b[0m\n",
      "[jovian] Committed successfully! https://jovian.ml/tiwari12-rst/metrices-part1\u001b[0m\n"
     ]
    },
    {
     "data": {
      "text/plain": [
       "'https://jovian.ml/tiwari12-rst/metrices-part1'"
      ]
     },
     "execution_count": 55,
     "metadata": {},
     "output_type": "execute_result"
    }
   ],
   "source": [
    "jovian.commit()"
   ]
  },
  {
   "cell_type": "markdown",
   "metadata": {},
   "source": [
    "# using Model.stats for overall summary of the statistic of the model"
   ]
  },
  {
   "cell_type": "code",
   "execution_count": 57,
   "metadata": {},
   "outputs": [],
   "source": [
    "import statsmodels.api as sm\n",
    "import statsmodels.formula.api as smf\n"
   ]
  },
  {
   "cell_type": "markdown",
   "metadata": {},
   "source": [
    "# Loading Dataset sample"
   ]
  },
  {
   "cell_type": "code",
   "execution_count": 60,
   "metadata": {},
   "outputs": [],
   "source": [
    "dataset = sm.datasets.get_rdataset(\"Guerry\", \"HistData\").data\n"
   ]
  },
  {
   "cell_type": "markdown",
   "metadata": {},
   "source": [
    "# Fitting the model in ordinary least square i.e. OLS"
   ]
  },
  {
   "cell_type": "code",
   "execution_count": 63,
   "metadata": {},
   "outputs": [],
   "source": [
    "output = smf.ols('Lottery ~ Literacy + np.log(Pop1831)', data=dataset ).fit()"
   ]
  },
  {
   "cell_type": "markdown",
   "metadata": {},
   "source": [
    "# Printing summary"
   ]
  },
  {
   "cell_type": "code",
   "execution_count": 64,
   "metadata": {},
   "outputs": [
    {
     "name": "stdout",
     "output_type": "stream",
     "text": [
      "                            OLS Regression Results                            \n",
      "==============================================================================\n",
      "Dep. Variable:                Lottery   R-squared:                       0.348\n",
      "Model:                            OLS   Adj. R-squared:                  0.333\n",
      "Method:                 Least Squares   F-statistic:                     22.20\n",
      "Date:                Wed, 07 Oct 2020   Prob (F-statistic):           1.90e-08\n",
      "Time:                        16:23:37   Log-Likelihood:                -379.82\n",
      "No. Observations:                  86   AIC:                             765.6\n",
      "Df Residuals:                      83   BIC:                             773.0\n",
      "Df Model:                           2                                         \n",
      "Covariance Type:            nonrobust                                         \n",
      "===================================================================================\n",
      "                      coef    std err          t      P>|t|      [0.025      0.975]\n",
      "-----------------------------------------------------------------------------------\n",
      "Intercept         246.4341     35.233      6.995      0.000     176.358     316.510\n",
      "Literacy           -0.4889      0.128     -3.832      0.000      -0.743      -0.235\n",
      "np.log(Pop1831)   -31.3114      5.977     -5.239      0.000     -43.199     -19.424\n",
      "==============================================================================\n",
      "Omnibus:                        3.713   Durbin-Watson:                   2.019\n",
      "Prob(Omnibus):                  0.156   Jarque-Bera (JB):                3.394\n",
      "Skew:                          -0.487   Prob(JB):                        0.183\n",
      "Kurtosis:                       3.003   Cond. No.                         702.\n",
      "==============================================================================\n",
      "\n",
      "Notes:\n",
      "[1] Standard Errors assume that the covariance matrix of the errors is correctly specified.\n"
     ]
    }
   ],
   "source": [
    "print(output.summary())"
   ]
  },
  {
   "cell_type": "code",
   "execution_count": 65,
   "metadata": {},
   "outputs": [
    {
     "data": {
      "application/javascript": [
       "window.require && require([\"base/js/namespace\"],function(Jupyter){Jupyter.notebook.save_checkpoint()})"
      ],
      "text/plain": [
       "<IPython.core.display.Javascript object>"
      ]
     },
     "metadata": {},
     "output_type": "display_data"
    },
    {
     "name": "stdout",
     "output_type": "stream",
     "text": [
      "[jovian] Attempting to save notebook..\u001b[0m\n",
      "[jovian] Updating notebook \"tiwari12-rst/metrices-part1\" on https://jovian.ml/\u001b[0m\n",
      "[jovian] Uploading notebook..\u001b[0m\n",
      "[jovian] Capturing environment..\u001b[0m\n",
      "[jovian] Committed successfully! https://jovian.ml/tiwari12-rst/metrices-part1\u001b[0m\n"
     ]
    },
    {
     "data": {
      "text/plain": [
       "'https://jovian.ml/tiwari12-rst/metrices-part1'"
      ]
     },
     "execution_count": 65,
     "metadata": {},
     "output_type": "execute_result"
    }
   ],
   "source": [
    "jovian.commit()"
   ]
  },
  {
   "cell_type": "code",
   "execution_count": null,
   "metadata": {},
   "outputs": [
    {
     "data": {
      "application/javascript": [
       "window.require && require([\"base/js/namespace\"],function(Jupyter){Jupyter.notebook.save_checkpoint()})"
      ],
      "text/plain": [
       "<IPython.core.display.Javascript object>"
      ]
     },
     "metadata": {},
     "output_type": "display_data"
    },
    {
     "name": "stdout",
     "output_type": "stream",
     "text": [
      "[jovian] Attempting to save notebook..\u001b[0m\n"
     ]
    }
   ],
   "source": [
    "jovian.commit()"
   ]
  },
  {
   "cell_type": "code",
   "execution_count": null,
   "metadata": {},
   "outputs": [],
   "source": []
  }
 ],
 "metadata": {
  "kernelspec": {
   "display_name": "Python 3",
   "language": "python",
   "name": "python3"
  },
  "language_info": {
   "codemirror_mode": {
    "name": "ipython",
    "version": 3
   },
   "file_extension": ".py",
   "mimetype": "text/x-python",
   "name": "python",
   "nbconvert_exporter": "python",
   "pygments_lexer": "ipython3",
   "version": "3.7.3"
  }
 },
 "nbformat": 4,
 "nbformat_minor": 2
}
