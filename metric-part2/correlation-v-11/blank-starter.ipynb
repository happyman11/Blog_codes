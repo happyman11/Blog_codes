{
 "cells": [
  {
   "cell_type": "code",
   "execution_count": 17,
   "metadata": {},
   "outputs": [
    {
     "name": "stdout",
     "output_type": "stream",
     "text": [
      "Requirement already satisfied: scipy in /srv/conda/envs/notebook/lib/python3.7/site-packages (1.5.2)\n",
      "Requirement already satisfied: numpy>=1.14.5 in /srv/conda/envs/notebook/lib/python3.7/site-packages (from scipy) (1.19.2)\n",
      "Requirement already satisfied: pandas in /srv/conda/envs/notebook/lib/python3.7/site-packages (1.1.3)\n",
      "Requirement already satisfied: numpy>=1.15.4 in /srv/conda/envs/notebook/lib/python3.7/site-packages (from pandas) (1.19.2)\n",
      "Requirement already satisfied: python-dateutil>=2.7.3 in /srv/conda/envs/notebook/lib/python3.7/site-packages (from pandas) (2.8.0)\n",
      "Requirement already satisfied: pytz>=2017.2 in /srv/conda/envs/notebook/lib/python3.7/site-packages (from pandas) (2020.1)\n",
      "Requirement already satisfied: six>=1.5 in /srv/conda/envs/notebook/lib/python3.7/site-packages (from python-dateutil>=2.7.3->pandas) (1.12.0)\n",
      "Requirement already satisfied: numpy in /srv/conda/envs/notebook/lib/python3.7/site-packages (1.19.2)\n",
      "Requirement already satisfied: matplotlib in /srv/conda/envs/notebook/lib/python3.7/site-packages (3.3.2)\n",
      "Requirement already satisfied: python-dateutil>=2.1 in /srv/conda/envs/notebook/lib/python3.7/site-packages (from matplotlib) (2.8.0)\n",
      "Requirement already satisfied: numpy>=1.15 in /srv/conda/envs/notebook/lib/python3.7/site-packages (from matplotlib) (1.19.2)\n",
      "Requirement already satisfied: pillow>=6.2.0 in /srv/conda/envs/notebook/lib/python3.7/site-packages (from matplotlib) (7.2.0)\n",
      "Requirement already satisfied: certifi>=2020.06.20 in /srv/conda/envs/notebook/lib/python3.7/site-packages (from matplotlib) (2020.6.20)\n",
      "Requirement already satisfied: pyparsing!=2.0.4,!=2.1.2,!=2.1.6,>=2.0.3 in /srv/conda/envs/notebook/lib/python3.7/site-packages (from matplotlib) (2.4.7)\n",
      "Requirement already satisfied: cycler>=0.10 in /srv/conda/envs/notebook/lib/python3.7/site-packages (from matplotlib) (0.10.0)\n",
      "Requirement already satisfied: kiwisolver>=1.0.1 in /srv/conda/envs/notebook/lib/python3.7/site-packages (from matplotlib) (1.2.0)\n",
      "Requirement already satisfied: six>=1.5 in /srv/conda/envs/notebook/lib/python3.7/site-packages (from python-dateutil>=2.1->matplotlib) (1.12.0)\n",
      "Collecting pingouin\n",
      "\u001b[?25l  Downloading https://files.pythonhosted.org/packages/e6/5f/4618f878765a8b7037b8831f19105c5c2764b26e5e9afa4a29c58fc11d26/pingouin-0.3.8.tar.gz (223kB)\n",
      "\u001b[K     |████████████████████████████████| 225kB 3.3MB/s eta 0:00:01\n",
      "\u001b[?25hRequirement already satisfied: numpy>=1.15 in /srv/conda/envs/notebook/lib/python3.7/site-packages (from pingouin) (1.19.2)\n",
      "Requirement already satisfied: scipy>=1.3 in /srv/conda/envs/notebook/lib/python3.7/site-packages (from pingouin) (1.5.2)\n",
      "Requirement already satisfied: pandas>=0.24 in /srv/conda/envs/notebook/lib/python3.7/site-packages (from pingouin) (1.1.3)\n",
      "Requirement already satisfied: matplotlib>=3.0.2 in /srv/conda/envs/notebook/lib/python3.7/site-packages (from pingouin) (3.3.2)\n",
      "Collecting seaborn>=0.9.0 (from pingouin)\n",
      "\u001b[?25l  Downloading https://files.pythonhosted.org/packages/bc/45/5118a05b0d61173e6eb12bc5804f0fbb6f196adb0a20e0b16efc2b8e98be/seaborn-0.11.0-py3-none-any.whl (283kB)\n",
      "\u001b[K     |████████████████████████████████| 286kB 10.1MB/s eta 0:00:01\n",
      "\u001b[?25hCollecting statsmodels>=0.10.0 (from pingouin)\n",
      "\u001b[?25l  Downloading https://files.pythonhosted.org/packages/ff/68/ca52fc6a114141f13dfaee340fc355e2825753f1cbe3702a13a5046e16de/statsmodels-0.12.0-cp37-cp37m-manylinux1_x86_64.whl (9.5MB)\n",
      "\u001b[K     |████████████████████████████████| 9.5MB 16.3MB/s eta 0:00:01\n",
      "\u001b[?25hCollecting scikit-learn (from pingouin)\n",
      "\u001b[?25l  Downloading https://files.pythonhosted.org/packages/f4/cb/64623369f348e9bfb29ff898a57ac7c91ed4921f228e9726546614d63ccb/scikit_learn-0.23.2-cp37-cp37m-manylinux1_x86_64.whl (6.8MB)\n",
      "\u001b[K     |████████████████████████████████| 6.8MB 36.2MB/s eta 0:00:01\n",
      "\u001b[?25hCollecting pandas_flavor>=0.1.2 (from pingouin)\n",
      "  Downloading https://files.pythonhosted.org/packages/9a/57/7fbcff4c0961ed190ac5fcb0bd8194152ee1ee6487edf64fdbae16e2bc4b/pandas_flavor-0.2.0-py2.py3-none-any.whl\n",
      "Collecting outdated (from pingouin)\n",
      "  Downloading https://files.pythonhosted.org/packages/86/70/2f166266438a30e94140f00c99c0eac1c45807981052a1d4c123660e1323/outdated-0.2.0.tar.gz\n",
      "Collecting tabulate (from pingouin)\n",
      "  Downloading https://files.pythonhosted.org/packages/c4/f4/770ae9385990f5a19a91431163d262182d3203662ea2b5739d0fcfc080f1/tabulate-0.8.7-py3-none-any.whl\n",
      "Requirement already satisfied: python-dateutil>=2.7.3 in /srv/conda/envs/notebook/lib/python3.7/site-packages (from pandas>=0.24->pingouin) (2.8.0)\n",
      "Requirement already satisfied: pytz>=2017.2 in /srv/conda/envs/notebook/lib/python3.7/site-packages (from pandas>=0.24->pingouin) (2020.1)\n",
      "Requirement already satisfied: kiwisolver>=1.0.1 in /srv/conda/envs/notebook/lib/python3.7/site-packages (from matplotlib>=3.0.2->pingouin) (1.2.0)\n",
      "Requirement already satisfied: pillow>=6.2.0 in /srv/conda/envs/notebook/lib/python3.7/site-packages (from matplotlib>=3.0.2->pingouin) (7.2.0)\n",
      "Requirement already satisfied: cycler>=0.10 in /srv/conda/envs/notebook/lib/python3.7/site-packages (from matplotlib>=3.0.2->pingouin) (0.10.0)\n",
      "Requirement already satisfied: pyparsing!=2.0.4,!=2.1.2,!=2.1.6,>=2.0.3 in /srv/conda/envs/notebook/lib/python3.7/site-packages (from matplotlib>=3.0.2->pingouin) (2.4.7)\n",
      "Requirement already satisfied: certifi>=2020.06.20 in /srv/conda/envs/notebook/lib/python3.7/site-packages (from matplotlib>=3.0.2->pingouin) (2020.6.20)\n",
      "Collecting patsy>=0.5 (from statsmodels>=0.10.0->pingouin)\n",
      "\u001b[?25l  Downloading https://files.pythonhosted.org/packages/ea/0c/5f61f1a3d4385d6bf83b83ea495068857ff8dfb89e74824c6e9eb63286d8/patsy-0.5.1-py2.py3-none-any.whl (231kB)\n",
      "\u001b[K     |████████████████████████████████| 235kB 23.9MB/s eta 0:00:01\n",
      "\u001b[?25hCollecting joblib>=0.11 (from scikit-learn->pingouin)\n",
      "\u001b[?25l  Downloading https://files.pythonhosted.org/packages/fc/c9/f58220ac44a1592f79a343caba12f6837f9e0c04c196176a3d66338e1ea8/joblib-0.17.0-py3-none-any.whl (301kB)\n",
      "\u001b[K     |████████████████████████████████| 307kB 34.7MB/s eta 0:00:01\n",
      "\u001b[?25hCollecting threadpoolctl>=2.0.0 (from scikit-learn->pingouin)\n",
      "  Downloading https://files.pythonhosted.org/packages/f7/12/ec3f2e203afa394a149911729357aa48affc59c20e2c1c8297a60f33f133/threadpoolctl-2.1.0-py3-none-any.whl\n",
      "Collecting xarray (from pandas_flavor>=0.1.2->pingouin)\n",
      "\u001b[?25l  Downloading https://files.pythonhosted.org/packages/7a/cc/62ca520e349e63b05ce43c781757cbd3bea71d83ece96f2176763b57e8c2/xarray-0.16.1-py3-none-any.whl (720kB)\n",
      "\u001b[K     |████████████████████████████████| 727kB 31.8MB/s eta 0:00:01\n",
      "\u001b[?25hCollecting littleutils (from outdated->pingouin)\n",
      "  Downloading https://files.pythonhosted.org/packages/4e/b1/bb4e06f010947d67349f863b6a2ad71577f85590180a935f60543f622652/littleutils-0.2.2.tar.gz\n",
      "Requirement already satisfied: requests in /srv/conda/envs/notebook/lib/python3.7/site-packages (from outdated->pingouin) (2.22.0)\n",
      "Requirement already satisfied: six>=1.5 in /srv/conda/envs/notebook/lib/python3.7/site-packages (from python-dateutil>=2.7.3->pandas>=0.24->pingouin) (1.12.0)\n",
      "Requirement already satisfied: setuptools>=38.4 in /srv/conda/envs/notebook/lib/python3.7/site-packages (from xarray->pandas_flavor>=0.1.2->pingouin) (41.0.1)\n",
      "Requirement already satisfied: urllib3!=1.25.0,!=1.25.1,<1.26,>=1.21.1 in /srv/conda/envs/notebook/lib/python3.7/site-packages (from requests->outdated->pingouin) (1.25.3)\n",
      "Requirement already satisfied: chardet<3.1.0,>=3.0.2 in /srv/conda/envs/notebook/lib/python3.7/site-packages (from requests->outdated->pingouin) (3.0.4)\n",
      "Requirement already satisfied: idna<2.9,>=2.5 in /srv/conda/envs/notebook/lib/python3.7/site-packages (from requests->outdated->pingouin) (2.8)\n",
      "Building wheels for collected packages: pingouin, outdated, littleutils\n",
      "  Building wheel for pingouin (setup.py) ... \u001b[?25ldone\n",
      "\u001b[?25h  Created wheel for pingouin: filename=pingouin-0.3.8-cp37-none-any.whl size=221687 sha256=6e476f2b3a82b94019dda7b57b8d176b856ce455b2c01d7ca856e879726e299e\n",
      "  Stored in directory: /home/jovyan/.cache/pip/wheels/d6/9e/53/f885f73f29cf7c8cac3d8f4b1532bbfef2f5eb543946ac9055\n",
      "  Building wheel for outdated (setup.py) ... \u001b[?25ldone\n",
      "\u001b[?25h  Created wheel for outdated: filename=outdated-0.2.0-cp37-none-any.whl size=4962 sha256=56f48d35b52df4d2d3623e91cd796bee52a5accc8c0215b3a2f2217bdbd317a0\n",
      "  Stored in directory: /home/jovyan/.cache/pip/wheels/fd/7c/ef/814f514d31197310872b5abf353feb8fef9d67ee658e1e7e39\n"
     ]
    },
    {
     "name": "stdout",
     "output_type": "stream",
     "text": [
      "  Building wheel for littleutils (setup.py) ... \u001b[?25ldone\n",
      "\u001b[?25h  Created wheel for littleutils: filename=littleutils-0.2.2-cp37-none-any.whl size=7050 sha256=ec4177b99ec51261244d19a865e644ac1007c6be9c18c6d44b0afb45767cf688\n",
      "  Stored in directory: /home/jovyan/.cache/pip/wheels/53/16/9f/ac67d15c40243754fd73f620e1b9b6dedc20492ecc19a2bae1\n",
      "Successfully built pingouin outdated littleutils\n",
      "Installing collected packages: seaborn, patsy, statsmodels, joblib, threadpoolctl, scikit-learn, xarray, pandas-flavor, littleutils, outdated, tabulate, pingouin\n",
      "Successfully installed joblib-0.17.0 littleutils-0.2.2 outdated-0.2.0 pandas-flavor-0.2.0 patsy-0.5.1 pingouin-0.3.8 scikit-learn-0.23.2 seaborn-0.11.0 statsmodels-0.12.0 tabulate-0.8.7 threadpoolctl-2.1.0 xarray-0.16.1\n"
     ]
    }
   ],
   "source": [
    "!pip install jovian --upgrade --quiet\n",
    "!pip install scipy\n",
    "!pip install pandas\n",
    "!pip install numpy\n",
    "!pip install matplotlib\n",
    "!pip install pingouin\n",
    "\n"
   ]
  },
  {
   "cell_type": "markdown",
   "metadata": {},
   "source": [
    "# Importing the required packages"
   ]
  },
  {
   "cell_type": "code",
   "execution_count": 22,
   "metadata": {},
   "outputs": [],
   "source": [
    "import jovian\n",
    "import scipy\n",
    "import numpy as np\n",
    "import pandas as pd\n",
    "from random import seed\n",
    "from random import randint\n",
    "from random import random\n",
    "from scipy import stats\n",
    "import numpy as np\n",
    "import pingouin as pg\n",
    "import matplotlib.pyplot as plt"
   ]
  },
  {
   "cell_type": "markdown",
   "metadata": {},
   "source": [
    "# Creating the fake dataset\n",
    "Though you can use the original dataset by seperating the Independent Variable as well as the dependent variable"
   ]
  },
  {
   "cell_type": "code",
   "execution_count": 11,
   "metadata": {},
   "outputs": [
    {
     "name": "stdout",
     "output_type": "stream",
     "text": [
      "42\n",
      "42\n"
     ]
    }
   ],
   "source": [
    "X=[]\n",
    "Y=[]\n",
    "Xcatt=[]\n",
    "for i in range(0,21):\n",
    "    X.append(randint(0,20000))\n",
    "    X.append(random())\n",
    "    \n",
    "print(len(X)) \n",
    "for i in range(0,42):\n",
    "    Y.append(randint(0,3000))\n",
    "\n",
    "for i in range(0,42):\n",
    "    \n",
    "    Xcatt.append(randint(0,2))\n",
    "    \n",
    "\n",
    "print(len(Y))    "
   ]
  },
  {
   "cell_type": "markdown",
   "metadata": {},
   "source": [
    "# plotting dataset for the X variable"
   ]
  },
  {
   "cell_type": "code",
   "execution_count": 20,
   "metadata": {},
   "outputs": [
    {
     "data": {
      "image/png": "[encoded data removed]",
      "text/plain": [
       "<Figure size 432x288 with 1 Axes>"
      ]
     },
     "metadata": {
      "needs_background": "light"
     },
     "output_type": "display_data"
    }
   ],
   "source": [
    "N=42\n",
    "colors = np.random.rand(42)\n",
    "plt.scatter(X,Y, c=colors, alpha=0.5)\n",
    "plt.show()\n",
    "colors = np.random.rand(N)"
   ]
  },
  {
   "cell_type": "markdown",
   "metadata": {},
   "source": [
    "# Pearson Coefficient"
   ]
  },
  {
   "cell_type": "code",
   "execution_count": 24,
   "metadata": {},
   "outputs": [
    {
     "name": "stdout",
     "output_type": "stream",
     "text": [
      "Pearson coefficient0.62901750578429 and r_value0.07675165276754183\n"
     ]
    },
    {
     "data": {
      "text/html": [
       "<div>\n",
       "<style scoped>\n",
       "    .dataframe tbody tr th:only-of-type {\n",
       "        vertical-align: middle;\n",
       "    }\n",
       "\n",
       "    .dataframe tbody tr th {\n",
       "        vertical-align: top;\n",
       "    }\n",
       "\n",
       "    .dataframe thead th {\n",
       "        text-align: right;\n",
       "    }\n",
       "</style>\n",
       "<table border=\"1\" class=\"dataframe\">\n",
       "  <thead>\n",
       "    <tr style=\"text-align: right;\">\n",
       "      <th></th>\n",
       "      <th>n</th>\n",
       "      <th>r</th>\n",
       "      <th>CI95%</th>\n",
       "      <th>r2</th>\n",
       "      <th>adj_r2</th>\n",
       "      <th>p-val</th>\n",
       "      <th>BF10</th>\n",
       "      <th>power</th>\n",
       "    </tr>\n",
       "  </thead>\n",
       "  <tbody>\n",
       "    <tr>\n",
       "      <th>pearson</th>\n",
       "      <td>42</td>\n",
       "      <td>0.077</td>\n",
       "      <td>[-0.23, 0.37]</td>\n",
       "      <td>0.006</td>\n",
       "      <td>-0.045</td>\n",
       "      <td>0.629</td>\n",
       "      <td>0.215</td>\n",
       "      <td>0.077</td>\n",
       "    </tr>\n",
       "  </tbody>\n",
       "</table>\n",
       "</div>"
      ],
      "text/plain": [
       "          n      r          CI95%     r2  adj_r2  p-val   BF10  power\n",
       "pearson  42  0.077  [-0.23, 0.37]  0.006  -0.045  0.629  0.215  0.077"
      ]
     },
     "execution_count": 24,
     "metadata": {},
     "output_type": "execute_result"
    }
   ],
   "source": [
    "r_value,earson_coeff=stats.pearsonr(X,Y)\n",
    "print(\"Pearson coefficient{} and r_value{}\".format(earson_coeff,r_value))\n",
    "\n",
    "pg.corr(X, Y).round(3)"
   ]
  },
  {
   "cell_type": "markdown",
   "metadata": {},
   "source": [
    "# Spearman Coefficient"
   ]
  },
  {
   "cell_type": "code",
   "execution_count": 25,
   "metadata": {},
   "outputs": [
    {
     "name": "stdout",
     "output_type": "stream",
     "text": [
      "Spearman coefficient -0.039137833238797506 and p_value 0.8056189165636549\n"
     ]
    },
    {
     "data": {
      "text/html": [
       "<div>\n",
       "<style scoped>\n",
       "    .dataframe tbody tr th:only-of-type {\n",
       "        vertical-align: middle;\n",
       "    }\n",
       "\n",
       "    .dataframe tbody tr th {\n",
       "        vertical-align: top;\n",
       "    }\n",
       "\n",
       "    .dataframe thead th {\n",
       "        text-align: right;\n",
       "    }\n",
       "</style>\n",
       "<table border=\"1\" class=\"dataframe\">\n",
       "  <thead>\n",
       "    <tr style=\"text-align: right;\">\n",
       "      <th></th>\n",
       "      <th>n</th>\n",
       "      <th>r</th>\n",
       "      <th>CI95%</th>\n",
       "      <th>r2</th>\n",
       "      <th>adj_r2</th>\n",
       "      <th>p-val</th>\n",
       "      <th>power</th>\n",
       "    </tr>\n",
       "  </thead>\n",
       "  <tbody>\n",
       "    <tr>\n",
       "      <th>spearman</th>\n",
       "      <td>42</td>\n",
       "      <td>-0.039</td>\n",
       "      <td>[-0.34, 0.27]</td>\n",
       "      <td>0.002</td>\n",
       "      <td>-0.05</td>\n",
       "      <td>0.806</td>\n",
       "      <td>0.057</td>\n",
       "    </tr>\n",
       "  </tbody>\n",
       "</table>\n",
       "</div>"
      ],
      "text/plain": [
       "           n      r          CI95%     r2  adj_r2  p-val  power\n",
       "spearman  42 -0.039  [-0.34, 0.27]  0.002   -0.05  0.806  0.057"
      ]
     },
     "execution_count": 25,
     "metadata": {},
     "output_type": "execute_result"
    }
   ],
   "source": [
    "spearman_coeff,p_value=stats.spearmanr(X,Y)\n",
    "print(\"Spearman coefficient {} and p_value {}\".format(spearman_coeff,p_value))\n",
    "\n",
    "pg.corr(X,Y, method=\"spearman\").round(3)"
   ]
  },
  {
   "cell_type": "markdown",
   "metadata": {},
   "source": [
    "# Kendal Tau COefficient"
   ]
  },
  {
   "cell_type": "code",
   "execution_count": null,
   "metadata": {},
   "outputs": [],
   "source": [
    "tau, p_value = stats.kendalltau(X,Y)\n",
    "print(\" Kendal Tau Coefficient  {} and p_value {}\".format(tau, p_value))"
   ]
  },
  {
   "cell_type": "markdown",
   "metadata": {},
   "source": [
    "# Distance Correlation"
   ]
  },
  {
   "cell_type": "code",
   "execution_count": 18,
   "metadata": {},
   "outputs": [
    {
     "name": "stdout",
     "output_type": "stream",
     "text": [
      " Distance Coefficient  0.8873702640025134 and p_value 0.011\n"
     ]
    }
   ],
   "source": [
    "import numpy as np\n",
    "\n",
    "\n",
    "from pingouin import distance_corr\n",
    "dcor, pval = distance_corr(a, b, seed=9)\n",
    "print(\" Distance Coefficient  {} and p_value {}\".format(dcor, pval ))\n",
    "\n"
   ]
  },
  {
   "cell_type": "code",
   "execution_count": null,
   "metadata": {},
   "outputs": [],
   "source": []
  },
  {
   "cell_type": "code",
   "execution_count": 19,
   "metadata": {},
   "outputs": [
    {
     "data": {
      "application/javascript": [
       "window.require && require([\"base/js/namespace\"],function(Jupyter){Jupyter.notebook.save_checkpoint()})"
      ],
      "text/plain": [
       "<IPython.core.display.Javascript object>"
      ]
     },
     "metadata": {},
     "output_type": "display_data"
    },
    {
     "name": "stdout",
     "output_type": "stream",
     "text": [
      "[jovian] Attempting to save notebook..\u001b[0m\n",
      "[jovian] Updating notebook \"tiwari12-rst/correlation\" on https://jovian.ml/\u001b[0m\n",
      "[jovian] Uploading notebook..\u001b[0m\n",
      "[jovian] Capturing environment..\u001b[0m\n",
      "[jovian] Committed successfully! https://jovian.ml/tiwari12-rst/correlation\u001b[0m\n"
     ]
    },
    {
     "data": {
      "text/plain": [
       "'https://jovian.ml/tiwari12-rst/correlation'"
      ]
     },
     "execution_count": 19,
     "metadata": {},
     "output_type": "execute_result"
    }
   ],
   "source": [
    "jovian.commit()"
   ]
  },
  {
   "cell_type": "markdown",
   "metadata": {},
   "source": [
    "# Point Biserial corellation between Dictomous and Discreete"
   ]
  },
  {
   "cell_type": "code",
   "execution_count": 15,
   "metadata": {},
   "outputs": [
    {
     "name": "stdout",
     "output_type": "stream",
     "text": [
      "PointbiserialrResult(correlation=-0.04057247175813569, pvalue=0.7986385276254752)\n"
     ]
    }
   ],
   "source": [
    "from scipy import stats\n",
    "print(stats.pointbiserialr(Xcatt,Y))\n",
    "\n"
   ]
  },
  {
   "cell_type": "markdown",
   "metadata": {},
   "source": [
    "# Biweight midcorrelation"
   ]
  },
  {
   "cell_type": "code",
   "execution_count": 21,
   "metadata": {},
   "outputs": [
    {
     "data": {
      "text/html": [
       "<div>\n",
       "<style scoped>\n",
       "    .dataframe tbody tr th:only-of-type {\n",
       "        vertical-align: middle;\n",
       "    }\n",
       "\n",
       "    .dataframe tbody tr th {\n",
       "        vertical-align: top;\n",
       "    }\n",
       "\n",
       "    .dataframe thead th {\n",
       "        text-align: right;\n",
       "    }\n",
       "</style>\n",
       "<table border=\"1\" class=\"dataframe\">\n",
       "  <thead>\n",
       "    <tr style=\"text-align: right;\">\n",
       "      <th></th>\n",
       "      <th>n</th>\n",
       "      <th>r</th>\n",
       "      <th>CI95%</th>\n",
       "      <th>r2</th>\n",
       "      <th>adj_r2</th>\n",
       "      <th>p-val</th>\n",
       "      <th>power</th>\n",
       "    </tr>\n",
       "  </thead>\n",
       "  <tbody>\n",
       "    <tr>\n",
       "      <th>bicor</th>\n",
       "      <td>42</td>\n",
       "      <td>0.061</td>\n",
       "      <td>[-0.25, 0.36]</td>\n",
       "      <td>0.004</td>\n",
       "      <td>-0.047</td>\n",
       "      <td>0.701</td>\n",
       "      <td>0.067</td>\n",
       "    </tr>\n",
       "  </tbody>\n",
       "</table>\n",
       "</div>"
      ],
      "text/plain": [
       "        n      r          CI95%     r2  adj_r2  p-val  power\n",
       "bicor  42  0.061  [-0.25, 0.36]  0.004  -0.047  0.701  0.067"
      ]
     },
     "execution_count": 21,
     "metadata": {},
     "output_type": "execute_result"
    }
   ],
   "source": [
    "\n",
    "import numpy as np\n",
    "import pingouin as pg\n",
    "pg.corr(X, Y, method=\"bicor\").round(3)"
   ]
  },
  {
   "cell_type": "code",
   "execution_count": 26,
   "metadata": {},
   "outputs": [
    {
     "data": {
      "application/javascript": [
       "window.require && require([\"base/js/namespace\"],function(Jupyter){Jupyter.notebook.save_checkpoint()})"
      ],
      "text/plain": [
       "<IPython.core.display.Javascript object>"
      ]
     },
     "metadata": {},
     "output_type": "display_data"
    },
    {
     "name": "stdout",
     "output_type": "stream",
     "text": [
      "[jovian] Attempting to save notebook..\u001b[0m\n",
      "[jovian] Updating notebook \"tiwari12-rst/correlation\" on https://jovian.ml/\u001b[0m\n",
      "[jovian] Uploading notebook..\u001b[0m\n",
      "[jovian] Capturing environment..\u001b[0m\n",
      "[jovian] Committed successfully! https://jovian.ml/tiwari12-rst/correlation\u001b[0m\n"
     ]
    },
    {
     "data": {
      "text/plain": [
       "'https://jovian.ml/tiwari12-rst/correlation'"
      ]
     },
     "execution_count": 26,
     "metadata": {},
     "output_type": "execute_result"
    }
   ],
   "source": [
    "jovian.commit()"
   ]
  },
  {
   "cell_type": "code",
   "execution_count": null,
   "metadata": {},
   "outputs": [],
   "source": []
  }
 ],
 "metadata": {
  "kernelspec": {
   "display_name": "Python 3",
   "language": "python",
   "name": "python3"
  },
  "language_info": {
   "codemirror_mode": {
    "name": "ipython",
    "version": 3
   },
   "file_extension": ".py",
   "mimetype": "text/x-python",
   "name": "python",
   "nbconvert_exporter": "python",
   "pygments_lexer": "ipython3",
   "version": "3.7.3"
  }
 },
 "nbformat": 4,
 "nbformat_minor": 2
}
